{
 "cells": [
  {
   "cell_type": "markdown",
   "metadata": {},
   "source": [
    "#### RUN THIS BLOCK TO START THE APPLICATION\n",
    "#### GO TO THE LOCALHOST URL\n",
    "#### iNTERRUPT THE KERNEL TO STOP"
   ]
  },
  {
   "cell_type": "code",
   "execution_count": 1,
   "metadata": {},
   "outputs": [
    {
     "name": "stdout",
     "output_type": "stream",
     "text": [
      " * Serving Flask app \"__main__\" (lazy loading)\n",
      " * Environment: production\n",
      "\u001b[31m   WARNING: This is a development server. Do not use it in a production deployment.\u001b[0m\n",
      "\u001b[2m   Use a production WSGI server instead.\u001b[0m\n",
      " * Debug mode: off\n"
     ]
    },
    {
     "name": "stderr",
     "output_type": "stream",
     "text": [
      " * Running on http://127.0.0.1:5000/ (Press CTRL+C to quit)\n",
      "127.0.0.1 - - [21/Jun/2022 09:34:39] \"GET / HTTP/1.1\" 200 -\n",
      "127.0.0.1 - - [21/Jun/2022 09:34:39] \"GET /static/css/vendor/bootstrap/js/bootstrap.bundle.min.js HTTP/1.1\" 404 -\n",
      "127.0.0.1 - - [21/Jun/2022 09:34:50] \"POST /loading HTTP/1.1\" 200 -\n",
      "C:\\Users\\adila\\Documents\\stock-price-prediction\\utils.py:39: FutureWarning: In a future version of pandas all arguments of DataFrame.drop except for the argument 'labels' will be keyword-only\n",
      "  df.drop(df.columns.difference(['date', 'open']), 1, inplace=True)\n"
     ]
    },
    {
     "name": "stdout",
     "output_type": "stream",
     "text": [
      "         date   open    high    low  close  volume Name\n",
      "0  2013-02-08  69.21  70.700  69.21  70.09  265713  AYI\n",
      "1  2013-02-11  69.98  70.620  69.98  70.25  204437  AYI\n",
      "2  2013-02-12  70.32  70.960  69.94  70.01  169035  AYI\n",
      "3  2013-02-13  70.08  71.140  69.88  71.14  251358  AYI\n",
      "4  2013-02-14  70.71  71.588  70.71  71.42  290970  AYI\n"
     ]
    },
    {
     "name": "stderr",
     "output_type": "stream",
     "text": [
      "127.0.0.1 - - [21/Jun/2022 09:34:50] \"GET /process HTTP/1.1\" 200 -\n",
      "127.0.0.1 - - [21/Jun/2022 09:34:50] \"GET /static/css/vendor/bootstrap/js/bootstrap.bundle.min.js HTTP/1.1\" 404 -\n",
      "127.0.0.1 - - [21/Jun/2022 09:34:54] \"POST /loading HTTP/1.1\" 200 -\n",
      "C:\\Users\\adila\\Documents\\stock-price-prediction\\utils.py:39: FutureWarning: In a future version of pandas all arguments of DataFrame.drop except for the argument 'labels' will be keyword-only\n",
      "  df.drop(df.columns.difference(['date', 'open']), 1, inplace=True)\n",
      "127.0.0.1 - - [21/Jun/2022 09:34:54] \"GET /process HTTP/1.1\" 200 -\n",
      "127.0.0.1 - - [21/Jun/2022 09:34:54] \"GET /static/css/vendor/bootstrap/js/bootstrap.bundle.min.js HTTP/1.1\" 404 -\n"
     ]
    },
    {
     "name": "stdout",
     "output_type": "stream",
     "text": [
      "         date   open\n",
      "0  2013-02-08  69.21\n",
      "1  2013-02-11  69.98\n",
      "2  2013-02-12  70.32\n",
      "3  2013-02-13  70.08\n",
      "4  2013-02-14  70.71\n"
     ]
    },
    {
     "name": "stderr",
     "output_type": "stream",
     "text": [
      "127.0.0.1 - - [21/Jun/2022 09:34:59] \"POST /loading HTTP/1.1\" 200 -\n",
      "C:\\Users\\adila\\Documents\\stock-price-prediction\\utils.py:39: FutureWarning: In a future version of pandas all arguments of DataFrame.drop except for the argument 'labels' will be keyword-only\n",
      "  df.drop(df.columns.difference(['date', 'open']), 1, inplace=True)\n",
      "127.0.0.1 - - [21/Jun/2022 09:34:59] \"GET /process HTTP/1.1\" 200 -\n",
      "127.0.0.1 - - [21/Jun/2022 09:34:59] \"GET /static/css/vendor/bootstrap/js/bootstrap.bundle.min.js HTTP/1.1\" 404 -\n"
     ]
    },
    {
     "name": "stdout",
     "output_type": "stream",
     "text": [
      "         date   open     high    low  close   volume Name\n",
      "0  2013-02-08  30.67  30.7500  30.51  30.65  3169594  BBT\n",
      "1  2013-02-11  30.67  30.8000  30.56  30.63  2331836  BBT\n",
      "2  2013-02-12  30.66  30.6905  30.40  30.60  3294416  BBT\n",
      "3  2013-02-13  30.63  30.6600  30.40  30.52  2954293  BBT\n",
      "4  2013-02-14  30.42  30.5600  30.28  30.36  3035758  BBT\n"
     ]
    }
   ],
   "source": [
    "# Importing flask module in the project is mandatory\n",
    "# An object of Flask class is our WSGI application.\n",
    "from flask import Flask, render_template, request, send_from_directory\n",
    "import utils\n",
    "import train_models as tm\n",
    "import os\n",
    "import pandas as pd\n",
    "\n",
    "# Flask constructor takes the name of\n",
    "# current module (__name__) as argument.\n",
    "\n",
    "app = Flask(__name__)\n",
    "\n",
    "def perform_training(stock_name, df, models_list):\n",
    "    all_colors = {'SVR_linear': '#FF9EDD',\n",
    "                  'SVR_poly': '#FFFD7F',\n",
    "                  'SVR_rbf': '#FFA646',\n",
    "                  'linear_regression': '#CC2A1E',\n",
    "                  'random_forests': '#8F0099',\n",
    "                  'KNN': '#CCAB43',\n",
    "                  'elastic_net': '#CFAC43',\n",
    "                  'DT': '#85CC43',\n",
    "                  'LSTM_model': '#CC7674'}\n",
    "\n",
    "    print(df.head())\n",
    "    dates, prices, ml_models_outputs, prediction_date, test_price = tm.train_predict_plot(stock_name, df, models_list)\n",
    "    origdates = dates\n",
    "    if len(dates) > 20:\n",
    "        dates = dates[-20:]\n",
    "        prices = prices[-20:]\n",
    "\n",
    "    all_data = []\n",
    "    all_data.append((prices, 'false', 'Data', '#000000'))\n",
    "    for model_output in ml_models_outputs:\n",
    "        if len(origdates) > 20:\n",
    "            all_data.append(\n",
    "                (((ml_models_outputs[model_output])[0])[-20:], \"true\", model_output, all_colors[model_output]))\n",
    "        else:\n",
    "            all_data.append(\n",
    "                (((ml_models_outputs[model_output])[0]), \"true\", model_output, all_colors[model_output]))\n",
    "\n",
    "    all_prediction_data = []\n",
    "    all_test_evaluations = []\n",
    "    all_prediction_data.append((\"Original\", test_price))\n",
    "    for model_output in ml_models_outputs:\n",
    "        all_prediction_data.append((model_output, (ml_models_outputs[model_output])[1]))\n",
    "        all_test_evaluations.append((model_output, (ml_models_outputs[model_output])[2]))\n",
    "\n",
    "    return all_prediction_data, all_prediction_data, prediction_date, dates, all_data, all_data, all_test_evaluations\n",
    "\n",
    "all_files = utils.read_all_stock_files('individual_stocks_5yr')\n",
    "# The route() function of the Flask class is a decorator,\n",
    "# which tells the application which URL should call\n",
    "# the associated function.\n",
    "@app.route('/')\n",
    "# ‘/’ URL is bound with hello_world() function.\n",
    "def landing_function():\n",
    "    # all_files = utils.read_all_stock_files('individual_stocks_5yr')\n",
    "    # df = all_files['A']\n",
    "    # # df = pd.read_csv('GOOG_30_days.csv')\n",
    "    # all_prediction_data, all_prediction_data, prediction_date, dates, all_data, all_data = perform_training('A', df, ['SVR_linear'])\n",
    "    stock_files = list(all_files.keys())\n",
    "\n",
    "    return render_template('index.html',show_results=\"false\", stocklen=len(stock_files), stock_files=stock_files, len2=len([]),\n",
    "                           all_prediction_data=[],\n",
    "                           prediction_date=\"\", dates=[], all_data=[], len=len([]))\n",
    "\n",
    "@app.route('/process', methods=['POST', 'GET'])\n",
    "def process():\n",
    "\n",
    "    #stock_file_name = request.form['stockfile']\n",
    "    #ml_algoritms = request.form.getlist('mlalgos')\n",
    "\n",
    "    # all_files = utils.read_all_stock_files('individual_stocks_5yr')\n",
    "    df = all_files[str(stock_file_name)]\n",
    "    # df = pd.read_csv('GOOG_30_days.csv')\n",
    "    all_prediction_data, all_prediction_data, prediction_date, dates, all_data, all_data, all_test_evaluations = perform_training(str(stock_file_name), df, ml_algoritms)\n",
    "    stock_files = list(all_files.keys())\n",
    "\n",
    "    return render_template('index.html',all_test_evaluations=all_test_evaluations, show_results=\"true\", stocklen=len(stock_files), stock_files=stock_files,\n",
    "                           len2=len(all_prediction_data),\n",
    "                           all_prediction_data=all_prediction_data,\n",
    "                           prediction_date=prediction_date, dates=dates, all_data=all_data, len=len(all_data))\n",
    "@app.route('/loading', methods=['POST'])\n",
    "def loading():\n",
    "    global stock_file_name\n",
    "    global ml_algoritms\n",
    "    stock_file_name = request.form['stockfile']\n",
    "    ml_algoritms = request.form.getlist('mlalgos')\n",
    "\n",
    "    return render_template('loading.html', stockfile=stock_file_name, mlalgos=ml_algoritms)\n",
    "\n",
    "# main driver function\n",
    "if __name__ == '__main__':\n",
    "    # run() method of Flask class runs the application\n",
    "    # on the local development server.\n",
    "    app.run()\n"
   ]
  },
  {
   "cell_type": "code",
   "execution_count": null,
   "metadata": {},
   "outputs": [],
   "source": []
  }
 ],
 "metadata": {
  "kernelspec": {
   "display_name": "Python 3 (ipykernel)",
   "language": "python",
   "name": "python3"
  },
  "language_info": {
   "codemirror_mode": {
    "name": "ipython",
    "version": 3
   },
   "file_extension": ".py",
   "mimetype": "text/x-python",
   "name": "python",
   "nbconvert_exporter": "python",
   "pygments_lexer": "ipython3",
   "version": "3.9.7"
  },
  "vscode": {
   "interpreter": {
    "hash": "1a6e773fc7f7b2b8b91c25b211311bf7ed1bb15ad853df008c3aead80ddb88d4"
   }
  }
 },
 "nbformat": 4,
 "nbformat_minor": 2
}
